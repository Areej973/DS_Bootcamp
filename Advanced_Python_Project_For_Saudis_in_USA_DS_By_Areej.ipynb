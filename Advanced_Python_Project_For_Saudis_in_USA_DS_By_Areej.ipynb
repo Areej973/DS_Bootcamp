{
  "nbformat": 4,
  "nbformat_minor": 0,
  "metadata": {
    "colab": {
      "provenance": [],
      "authorship_tag": "ABX9TyPGolK3TmQ3IWB0f1GkM5TH",
      "include_colab_link": true
    },
    "kernelspec": {
      "name": "python3",
      "display_name": "Python 3"
    },
    "language_info": {
      "name": "python"
    }
  },
  "cells": [
    {
      "cell_type": "markdown",
      "metadata": {
        "id": "view-in-github",
        "colab_type": "text"
      },
      "source": [
        "<a href=\"https://colab.research.google.com/github/Areej973/DS_Bootcamp/blob/main/Advanced_Python_Project_For_Saudis_in_USA_DS_By_Areej.ipynb\" target=\"_parent\"><img src=\"https://colab.research.google.com/assets/colab-badge.svg\" alt=\"Open In Colab\"/></a>"
      ]
    },
    {
      "cell_type": "markdown",
      "source": [
        "# **Advanced Python Project For Saudis in USA DS**\n",
        "Part 1:Loop\n",
        "\n",
        "Q1. using for loop\n",
        "\n",
        "Q2. using while loop\n"
      ],
      "metadata": {
        "id": "us3HPutGhnL8"
      }
    },
    {
      "cell_type": "markdown",
      "source": [
        "##Q1.\n",
        "Loop through and print out all even numbers from the numbers list in the same order they are received. Don't print any numbers that come after 52 in the sequence.\n",
        "\n",
        "\n",
        "\n",
        "```\n",
        "nums = [229, 792, 857, 579, 974, 346, 649, 454, 698, 347, 236, 297, 150, 698, 294, 663, 556, 712, 271, 283, 705, 347, 725, 716, 486, 642, 644, 728, 409, 208, 421, 799, 52, 796, 441, 374, 60, 948, 143, 698, 934, 561, 917, 678, 666, 476, 23, 743, 836, 655, 971, 372, 215, 567, 462, 127, 208, 683, 618, 96, 329, 92, 934, 992, 120, 944, 605, 78, 87, 216, 62, 919, 462, 597, 671, 493, 540, 451, 885, 375, 606, 90, 607, 443, 240, 708, 674, 111, 165, 858, 799, 39, 383, 602, 695, 689, 726, 344, 2, 335]\n",
        "\n",
        "```\n",
        "\n",
        "\n"
      ],
      "metadata": {
        "id": "MubxfeNQbEfg"
      }
    },
    {
      "cell_type": "code",
      "source": [
        "#Q1\n",
        "nums = [229, 792, 857, 579, 974, 346, 649, 454, 698, 347, 236, 297, 150, 698, 294, 663, 556, 712, 271, 283, 705, 347, 725, 716, 486, 642, 644, 728, 409, 208, 421, 799, 52, 796, 441, 374, 60, 948, 143, 698, 934, 561, 917, 678, 666, 476, 23, 743, 836, 655, 971, 372, 215, 567, 462, 127, 208, 683, 618, 96, 329, 92, 934, 992, 120, 944, 605, 78, 87, 216, 62, 919, 462, 597, 671, 493, 540, 451, 885, 375, 606, 90, 607, 443, 240, 708, 674, 111, 165, 858, 799, 39, 383, 602, 695, 689, 726, 344, 2, 335]\n",
        "for i in nums:\n",
        "  if i <= 52  and i % 2 == 0:\n",
        "    print(i)\n"
      ],
      "metadata": {
        "id": "cONrwwxxiU_G"
      },
      "execution_count": null,
      "outputs": []
    },
    {
      "cell_type": "markdown",
      "source": [
        "# **Q2.**\n",
        "Prints out 0,1,2,3,4,...,9 and then it prints \"count value reached 10\""
      ],
      "metadata": {
        "id": "3bKBFUEEmq6E"
      }
    },
    {
      "cell_type": "code",
      "source": [
        "#start by defining and counter\n",
        "counter = 0\n",
        "\n",
        "while(counter<10):\n",
        "  print(counter)\n",
        "  counter+=1\n",
        "print('count value reached',counter)\n"
      ],
      "metadata": {
        "id": "V-K7wgcam1HQ"
      },
      "execution_count": null,
      "outputs": []
    },
    {
      "cell_type": "markdown",
      "source": [
        "# Part 2:Function\n",
        "\n",
        "Q1.\n",
        "\n",
        "Write a Python function that takes a list and returns a new list with distinct elements from the first list.\n",
        "\n",
        "Sample List : [1,2,3,3,3,3,4,5]\n",
        "\n",
        "Unique List : [1, 2, 3, 4, 5]"
      ],
      "metadata": {
        "id": "oTZlZavvn8J7"
      }
    },
    {
      "cell_type": "code",
      "source": [
        "#start with define the sunction\n",
        "def uniq(list_given):\n",
        "  return list(set(list_given))\n",
        "\n",
        "sample_list = [1,2,3,3,3,3,4,5]\n",
        "unique_list=uniq(sample_list)\n",
        "print('Sample List: ',sample_list)\n",
        "print('Unique List : ',unique_list)"
      ],
      "metadata": {
        "id": "C0n5nz84oQH3"
      },
      "execution_count": null,
      "outputs": []
    },
    {
      "cell_type": "markdown",
      "source": [
        "##Q2.\n",
        "function to find the factorial of a number\n",
        "\n",
        "\n",
        "Hint: don't use external library\n",
        "\n",
        "\n",
        "Hint: think about for loop or while loop\n"
      ],
      "metadata": {
        "id": "NwiFKNCvenZc"
      }
    },
    {
      "cell_type": "code",
      "source": [
        "#start defining the function\n",
        "def fact(n):\n",
        "  factorial=1\n",
        "  i=1\n",
        "  while i <= n:\n",
        "    factorial*=1\n",
        "    i+=1\n",
        "  return factorial\n",
        "\n",
        "number=int(input('Enter any non negative integers number: '))\n",
        "print('Factorial of',number,'is',fact(number))\n",
        "\n"
      ],
      "metadata": {
        "id": "OnRcgB8eqDEM"
      },
      "execution_count": null,
      "outputs": []
    },
    {
      "cell_type": "markdown",
      "source": [
        "#Part 3:Break\n",
        "\n",
        "Try to run this code\n",
        "\n",
        "```\n",
        "def f(x):\n",
        "    if x > 0:\n",
        "        print(\"Only printed when x is positive; x =\", x)\n",
        "        print(\"Also only printed when x is positive; x =\", x)\n",
        "    print(\"Always printed, regardless of x's value; x =\", x)\n",
        "\n",
        "f(1)\n",
        "f(0)\n",
        "```\n"
      ],
      "metadata": {
        "id": "ZF1g_7s2h7zi"
      }
    },
    {
      "cell_type": "code",
      "source": [
        "def f(x):\n",
        "    if x > 0:\n",
        "        print(\"Only printed when x is positive; x =\", x)\n",
        "        print(\"Also only printed when x is positive; x =\", x)\n",
        "    print(\"Always printed, regardless of x's value; x =\", x)\n",
        "\n",
        "f(1)\n",
        "f(0)"
      ],
      "metadata": {
        "colab": {
          "base_uri": "https://localhost:8080/"
        },
        "id": "wQdx1npKsV2u",
        "outputId": "3717e6fb-3019-4c0f-ffe3-82907a1e9aea"
      },
      "execution_count": 55,
      "outputs": [
        {
          "output_type": "stream",
          "name": "stdout",
          "text": [
            "Only printed when x is positive; x = 1\n",
            "Also only printed when x is positive; x = 1\n",
            "Always printed, regardless of x's value; x = 1\n",
            "Always printed, regardless of x's value; x = 0\n"
          ]
        }
      ]
    },
    {
      "cell_type": "markdown",
      "source": [
        "#Part 4 : using Numpy and zip\n",
        "\n",
        "Imagine that you have a list of numbers from 1 to 26\n",
        "and we have another list that contains the alphabets\n",
        "letters = ['a', 'b',...,'z']\n",
        "\n",
        "I want to you to make a dictionary that map between the key and the corresponding letter\n",
        "\n",
        "hint: use Numpy and zip function (and try to find another library for the letters)\n",
        "\n",
        "\n",
        "\n",
        "\n",
        "```\n",
        "#sample code might be like this\n",
        "#try to solve it by yourself first\n",
        "import numpy as np\n",
        "a = np.arange(1,27)\n",
        "a = list(a)\n",
        "import string\n",
        "letters_list = list(string.ascii_lowercase)\n",
        "mapping = dict(zip(a, letters_list))\n",
        "mapping\n",
        "```\n",
        "\n"
      ],
      "metadata": {
        "id": "VtYXQ4Ufio86"
      }
    },
    {
      "cell_type": "code",
      "source": [
        "import numpy as np\n",
        "list_of_num =list(np.arange(1,27))\n",
        "list_of_letter=list(chr(i) for i in range(ord('a'), ord('z') +1))\n",
        "mapping=dict(zip(list_of_num, list_of_letter))\n",
        "print(mapping)"
      ],
      "metadata": {
        "id": "fD_L1bxFuX2o"
      },
      "execution_count": null,
      "outputs": []
    },
    {
      "cell_type": "markdown",
      "source": [
        "#Part 5:Loops and List Comprehensions\n",
        "\n",
        "List comprehensions combined with functions like min, max, and sum can lead to impressive one-line solutions for problems that would otherwise require several lines of code.\n",
        "\n",
        "For example, compare the following two cells of code that do the same thing.\n",
        "\n",
        "\n",
        "\n",
        "```\n",
        "def count_negatives(nums):\n",
        "    \"\"\"Return the number of negative numbers in the given list.\n",
        "    \n",
        "    >>> count_negatives([5, -1, -2, 0, 3])\n",
        "    2\n",
        "    \"\"\"\n",
        "    n_negative = 0\n",
        "    for num in nums:\n",
        "        if num < 0:\n",
        "            n_negative = n_negative + 1\n",
        "    return n_negative\n",
        "```\n",
        "Here's a solution using a list comprehension:\n",
        "\n",
        "\n",
        "\n",
        "```\n",
        "def count_negatives(nums):\n",
        "    return len([num for num in nums if num < 0])\n",
        "```\n",
        "\n",
        "\n",
        "\n",
        "\n"
      ],
      "metadata": {
        "id": "0R6KAt7ntrdq"
      }
    },
    {
      "cell_type": "markdown",
      "source": [
        "# Part 6:Intro to Data Analysis and ML\n",
        "\n",
        "\n"
      ],
      "metadata": {
        "id": "vgqZdFIUvHjc"
      }
    },
    {
      "cell_type": "markdown",
      "source": [
        "#6.1 Importing data and packages\n",
        "\n",
        "copy this code and try to understand the syntax\n",
        "\n",
        "\n",
        "\n",
        "```\n",
        "#استخدام بايثون في المشين ليرنينج\n",
        "\n",
        "import pandas as pd\n",
        "from sklearn.datasets import load_iris\n",
        "\n",
        "# Load the Iris dataset\n",
        "iris = load_iris()\n",
        "\n",
        "# Create a DataFrame using the data and feature_names\n",
        "iris_df = pd.DataFrame(data=iris.data, columns=iris.feature_names)\n",
        "\n",
        "# Add the target column to the DataFrame\n",
        "iris_df['target'] = iris.target\n",
        "\n",
        "# Display the DataFrame\n",
        "print(iris_df)\n",
        "```\n",
        "\n"
      ],
      "metadata": {
        "id": "irVFkljbvNFp"
      }
    },
    {
      "cell_type": "code",
      "source": [
        "import pandas as pd\n",
        "from sklearn.datasets import load_iris\n",
        "\n",
        "# Load the Iris dataset\n",
        "iris = load_iris()\n",
        "\n",
        "# Create a DataFrame using the data and feature_names\n",
        "iris_df = pd.DataFrame(data=iris.data, columns=iris.feature_names)\n",
        "\n",
        "# Add the target column to the DataFrame\n",
        "iris_df['target'] = iris.target\n",
        "\n",
        "# Display the DataFrame\n",
        "print(iris_df)"
      ],
      "metadata": {
        "id": "8whhI-Yix6l6"
      },
      "execution_count": null,
      "outputs": []
    },
    {
      "cell_type": "markdown",
      "source": [
        "#6.2 Data Visualization\n",
        "\n",
        "\n",
        "\n",
        "```\n",
        "import seaborn as sns\n",
        "import matplotlib.pyplot as plt\n",
        "\n",
        "# Load the Iris dataset\n",
        "iris = sns.load_dataset(\"iris\")\n",
        "\n",
        "# Pairplot: Scatterplot matrix\n",
        "sns.pairplot(iris, hue=\"species\", palette=\"husl\", markers=[\"o\", \"s\", \"D\"])\n",
        "plt.suptitle(\"Pairplot of Iris Dataset\", y=1.02)\n",
        "plt.show()\n",
        "\n",
        "# Boxplot: Distribution of features by species\n",
        "plt.figure(figsize=(12, 6))\n",
        "plt.subplot(2, 2, 1)\n",
        "sns.boxplot(x=\"species\", y=\"sepal_length\", data=iris)\n",
        "plt.subplot(2, 2, 2)\n",
        "sns.boxplot(x=\"species\", y=\"sepal_width\", data=iris)\n",
        "plt.subplot(2, 2, 3)\n",
        "sns.boxplot(x=\"species\", y=\"petal_length\", data=iris)\n",
        "plt.subplot(2, 2, 4)\n",
        "sns.boxplot(x=\"species\", y=\"petal_width\", data=iris)\n",
        "plt.suptitle(\"Boxplots of Iris Features by Species\", y=1.02)\n",
        "plt.show()\n",
        "\n",
        "# Violin plot: Distribution of features by species\n",
        "plt.figure(figsize=(12, 6))\n",
        "plt.subplot(2, 2, 1)\n",
        "sns.violinplot(x=\"species\", y=\"sepal_length\", data=iris)\n",
        "plt.subplot(2, 2, 2)\n",
        "sns.violinplot(x=\"species\", y=\"sepal_width\", data=iris)\n",
        "plt.subplot(2, 2, 3)\n",
        "sns.violinplot(x=\"species\", y=\"petal_length\", data=iris)\n",
        "plt.subplot(2, 2, 4)\n",
        "sns.violinplot(x=\"species\", y=\"petal_width\", data=iris)\n",
        "plt.suptitle(\"Violin Plots of Iris Features by Species\", y=1.02)\n",
        "plt.show()\n",
        "\n",
        "# Heatmap: Correlation matrix\n",
        "correlation_matrix = iris.corr()\n",
        "sns.heatmap(correlation_matrix, annot=True, cmap=\"coolwarm\", linewidths=.5)\n",
        "plt.title(\"Correlation Matrix of Iris Features\")\n",
        "plt.show()\n",
        "```\n",
        "\n"
      ],
      "metadata": {
        "id": "cmWQJoZVvWFC"
      }
    },
    {
      "cell_type": "code",
      "source": [
        "pip install seaborn"
      ],
      "metadata": {
        "colab": {
          "base_uri": "https://localhost:8080/"
        },
        "id": "xt1QPrOZ2zvf",
        "outputId": "b445f975-a385-4cd5-9a73-3c058a1d42fa"
      },
      "execution_count": 50,
      "outputs": [
        {
          "output_type": "stream",
          "name": "stdout",
          "text": [
            "Requirement already satisfied: seaborn in /usr/local/lib/python3.10/dist-packages (0.13.1)\n",
            "Requirement already satisfied: numpy!=1.24.0,>=1.20 in /usr/local/lib/python3.10/dist-packages (from seaborn) (1.25.2)\n",
            "Requirement already satisfied: pandas>=1.2 in /usr/local/lib/python3.10/dist-packages (from seaborn) (2.0.3)\n",
            "Requirement already satisfied: matplotlib!=3.6.1,>=3.4 in /usr/local/lib/python3.10/dist-packages (from seaborn) (3.7.1)\n",
            "Requirement already satisfied: contourpy>=1.0.1 in /usr/local/lib/python3.10/dist-packages (from matplotlib!=3.6.1,>=3.4->seaborn) (1.2.1)\n",
            "Requirement already satisfied: cycler>=0.10 in /usr/local/lib/python3.10/dist-packages (from matplotlib!=3.6.1,>=3.4->seaborn) (0.12.1)\n",
            "Requirement already satisfied: fonttools>=4.22.0 in /usr/local/lib/python3.10/dist-packages (from matplotlib!=3.6.1,>=3.4->seaborn) (4.51.0)\n",
            "Requirement already satisfied: kiwisolver>=1.0.1 in /usr/local/lib/python3.10/dist-packages (from matplotlib!=3.6.1,>=3.4->seaborn) (1.4.5)\n",
            "Requirement already satisfied: packaging>=20.0 in /usr/local/lib/python3.10/dist-packages (from matplotlib!=3.6.1,>=3.4->seaborn) (24.0)\n",
            "Requirement already satisfied: pillow>=6.2.0 in /usr/local/lib/python3.10/dist-packages (from matplotlib!=3.6.1,>=3.4->seaborn) (9.4.0)\n",
            "Requirement already satisfied: pyparsing>=2.3.1 in /usr/local/lib/python3.10/dist-packages (from matplotlib!=3.6.1,>=3.4->seaborn) (3.1.2)\n",
            "Requirement already satisfied: python-dateutil>=2.7 in /usr/local/lib/python3.10/dist-packages (from matplotlib!=3.6.1,>=3.4->seaborn) (2.8.2)\n",
            "Requirement already satisfied: pytz>=2020.1 in /usr/local/lib/python3.10/dist-packages (from pandas>=1.2->seaborn) (2023.4)\n",
            "Requirement already satisfied: tzdata>=2022.1 in /usr/local/lib/python3.10/dist-packages (from pandas>=1.2->seaborn) (2024.1)\n",
            "Requirement already satisfied: six>=1.5 in /usr/local/lib/python3.10/dist-packages (from python-dateutil>=2.7->matplotlib!=3.6.1,>=3.4->seaborn) (1.16.0)\n"
          ]
        }
      ]
    },
    {
      "cell_type": "code",
      "source": [
        "import seaborn as sns\n",
        "import matplotlib.pyplot as plt\n",
        "\n",
        "# Load the Iris dataset\n",
        "iris = sns.load_dataset(\"iris\")\n",
        "\n",
        "# Pairplot: Scatterplot matrix\n",
        "sns.pairplot(iris, hue=\"species\", palette=\"husl\", markers=[\"o\", \"s\", \"D\"])\n",
        "plt.suptitle(\"Pairplot of Iris Dataset\", y=1.02)\n",
        "plt.show()\n",
        "\n",
        "# Boxplot: Distribution of features by species\n",
        "plt.figure(figsize=(12, 6))\n",
        "plt.subplot(2, 2, 1)\n",
        "sns.boxplot(x=\"species\", y=\"sepal_length\", data=iris)\n",
        "plt.subplot(2, 2, 2)\n",
        "sns.boxplot(x=\"species\", y=\"sepal_width\", data=iris)\n",
        "plt.subplot(2, 2, 3)\n",
        "sns.boxplot(x=\"species\", y=\"petal_length\", data=iris)\n",
        "plt.subplot(2, 2, 4)\n",
        "sns.boxplot(x=\"species\", y=\"petal_width\", data=iris)\n",
        "plt.suptitle(\"Boxplots of Iris Features by Species\", y=1.02)\n",
        "plt.show()\n",
        "\n",
        "# Violin plot: Distribution of features by species\n",
        "plt.figure(figsize=(12, 6))\n",
        "plt.subplot(2, 2, 1)\n",
        "sns.violinplot(x=\"species\", y=\"sepal_length\", data=iris)\n",
        "plt.subplot(2, 2, 2)\n",
        "sns.violinplot(x=\"species\", y=\"sepal_width\", data=iris)\n",
        "plt.subplot(2, 2, 3)\n",
        "sns.violinplot(x=\"species\", y=\"petal_length\", data=iris)\n",
        "plt.subplot(2, 2, 4)\n",
        "sns.violinplot(x=\"species\", y=\"petal_width\", data=iris)\n",
        "plt.suptitle(\"Violin Plots of Iris Features by Species\", y=1.02)\n",
        "plt.show()\n",
        "\n",
        "# Drop the 'species' column before computing the correlation matrix\n",
        "numeric_columns = iris.drop(columns=['species'])\n",
        "correlation_matrix = numeric_columns.corr()\n",
        "\n",
        "# Heatmap: Correlation matrix\n",
        "sns.heatmap(correlation_matrix, annot=True, cmap=\"coolwarm\", linewidths=.5)\n",
        "plt.title(\"Correlation Matrix of Iris Features\")\n",
        "plt.show()\n"
      ],
      "metadata": {
        "id": "VT-_6lh513hu"
      },
      "execution_count": null,
      "outputs": []
    },
    {
      "cell_type": "markdown",
      "source": [
        "#Quiz\n",
        "\n",
        "Write a Python function called even_squares that takes a list of integers as input and returns a new list containing the squares of even numbers from the original list.\n",
        "\n",
        "Hint: work SMARTER not harder\n",
        "\n",
        "\n",
        "\n",
        "```\n",
        "numbers = [1, 2, 3, 4, 5, 6, 7, 8, 9, 10]\n",
        "result = even_squares(numbers)\n",
        "print(result)\n",
        "\n",
        "[4, 16, 36, 64, 100]\n",
        "\n",
        "\n",
        "```\n",
        "\n"
      ],
      "metadata": {
        "id": "WHfsLR62wgUX"
      }
    },
    {
      "cell_type": "code",
      "source": [
        "def even_squares(numbers):\n",
        "  return [num**2 for num in numbers if num % 2 == 0]\n",
        "\n",
        "numbers = [1, 2, 3, 4, 5, 6, 7, 8, 9, 10]\n",
        "result=even_squares(numbers)\n",
        "print(result)\n"
      ],
      "metadata": {
        "id": "p_3E4F9p41Rk"
      },
      "execution_count": null,
      "outputs": []
    }
  ]
}